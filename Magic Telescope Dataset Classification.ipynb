{
  "nbformat": 4,
  "nbformat_minor": 0,
  "metadata": {
    "colab": {
      "name": "Assignment 3.ipynb",
      "provenance": [],
      "collapsed_sections": []
    },
    "kernelspec": {
      "name": "python3",
      "display_name": "Python 3"
    },
    "language_info": {
      "name": "python"
    },
    "accelerator": "GPU"
  },
  "cells": [
    {
      "cell_type": "code",
      "source": [
        "import warnings\n",
        "from sklearn.exceptions import DataConversionWarning\n",
        "warnings.filterwarnings(action='ignore', category=DataConversionWarning)"
      ],
      "metadata": {
        "id": "PWNeUq8uzOb9"
      },
      "execution_count": null,
      "outputs": []
    },
    {
      "cell_type": "code",
      "source": [
        "import pandas as pd\n",
        "import matplotlib.pyplot as plt\n",
        "import torch\n",
        "import torch.nn as nn\n",
        "import torch.optim as optim\n",
        "import torch.nn.functional as F\n",
        "from torch.utils.data import Dataset, DataLoader\n",
        "from sklearn.model_selection import train_test_split\n",
        "from sklearn.model_selection import KFold\n",
        "from sklearn.model_selection import GridSearchCV\n",
        "from sklearn.naive_bayes import GaussianNB\n",
        "from sklearn.metrics import accuracy_score,precision_score,recall_score,f1_score,confusion_matrix,ConfusionMatrixDisplay\n",
        "from sklearn.tree import DecisionTreeClassifier\n",
        "from sklearn.metrics import confusion_matrix\n",
        "from sklearn.metrics import accuracy_score\n",
        "from sklearn.metrics import classification_report\n",
        "from sklearn.neighbors import KNeighborsClassifier\n",
        "from sklearn.ensemble import AdaBoostClassifier\n",
        "from sklearn.ensemble import RandomForestClassifier\n",
        "from sklearn.preprocessing import StandardScaler    \n",
        "from sklearn.model_selection import train_test_split\n",
        "from sklearn.metrics import confusion_matrix, classification_report\n",
        "import nltk\n",
        "nltk.download('stopwords')\n",
        "nltk.download('punkt')\n",
        "nltk.download('averaged_perceptron_tagger')\n",
        "nltk.download('wordnet')"
      ],
      "metadata": {
        "id": "9w8MKojcffHr",
        "colab": {
          "base_uri": "https://localhost:8080/"
        },
        "outputId": "34cd7d28-2a46-4dcc-f266-cbf129b3187f"
      },
      "execution_count": null,
      "outputs": [
        {
          "output_type": "stream",
          "name": "stdout",
          "text": [
            "[nltk_data] Downloading package stopwords to /root/nltk_data...\n",
            "[nltk_data]   Package stopwords is already up-to-date!\n",
            "[nltk_data] Downloading package punkt to /root/nltk_data...\n",
            "[nltk_data]   Package punkt is already up-to-date!\n",
            "[nltk_data] Downloading package averaged_perceptron_tagger to\n",
            "[nltk_data]     /root/nltk_data...\n",
            "[nltk_data]   Package averaged_perceptron_tagger is already up-to-\n",
            "[nltk_data]       date!\n",
            "[nltk_data] Downloading package wordnet to /root/nltk_data...\n",
            "[nltk_data]   Package wordnet is already up-to-date!\n"
          ]
        },
        {
          "output_type": "execute_result",
          "data": {
            "text/plain": [
              "True"
            ]
          },
          "metadata": {},
          "execution_count": 65
        }
      ]
    },
    {
      "cell_type": "markdown",
      "source": [
        "#Balancing And Splitting Data"
      ],
      "metadata": {
        "id": "A5MNUU_tmTqc"
      }
    },
    {
      "cell_type": "code",
      "source": [
        "import pandas as pd\n",
        "import numpy as np\n",
        "import string\n",
        "from nltk.tokenize import word_tokenize\n",
        "from nltk.corpus import stopwords, wordnet\n",
        "from nltk.stem import WordNetLemmatizer\n",
        "plt.xticks(rotation=70)\n",
        "pd.options.mode.chained_assignment = None\n",
        "pd.set_option('display.max_colwidth', 100)\n",
        "%matplotlib inline\n",
        "data = pd.read_csv('IMDB Dataset.csv')\n",
        "count_positive,count_negative = data['sentiment'].value_counts()\n",
        "class_positive=data[data['sentiment'] == 'positive']\n",
        "class_negative=data[data['sentiment'] == 'negative']\n",
        "class_positive_under = class_positive.sample(count_negative)\n",
        "balanced_data = pd.concat([class_positive_under,class_negative])\n",
        "allData = balanced_data.iloc[:,0:1]\n",
        "targets = balanced_data.iloc[:,-1:]\n",
        "training_data_review1, testing_data_review1,training_data_sentiment,testing_data_sentiment = train_test_split(allData,targets, test_size=0.2, random_state=70)\n",
        "training_data_review,testing_data_review,training_data_val,testing_data_val = train_test_split(training_data_review1,training_data_sentiment,test_size=0.125,random_state=70)\n",
        "training_data_review['tokenized'] = training_data_review['review'].apply(word_tokenize)\n",
        "\n",
        "training_data_review['review_lowercase']=training_data_review['tokenized'].apply(lambda x : [word.lower() for word in x])\n",
        "print(training_data_review['review_lowercase'])\n",
        "punc = string.punctuation\n",
        "training_data_review['no_punc']=training_data_review['review_lowercase'].apply(lambda x: [word for word in x if word not in punc])\n",
        "print(training_data_review['no_punc'])\n",
        "stop_words = set(stopwords.words('english'))\n",
        "training_data_review['stopwords_removed'] = training_data_review['no_punc'].apply(lambda x: [word for word in x if word not in stop_words])\n",
        "training_data_review.head()\n",
        "training_data_review['pos_tags'] = training_data_review['stopwords_removed'].apply(nltk.tag.pos_tag)\n",
        "\n",
        "def get_wordnet_pos(tag):\n",
        "    if tag.startswith('J'):\n",
        "        return wordnet.ADJ\n",
        "    elif tag.startswith('V'):\n",
        "        return wordnet.VERB\n",
        "    elif tag.startswith('N'):\n",
        "        return wordnet.NOUN\n",
        "    elif tag.startswith('R'):\n",
        "        return wordnet.ADV\n",
        "    else:\n",
        "        return wordnet.NOUN\n",
        "\n",
        "\n",
        "training_data_review['wordnet_pos'] = training_data_review['pos_tags'].apply(lambda x: [(word, get_wordnet_pos(pos_tag)) for (word, pos_tag) in x])\n",
        "wnl = WordNetLemmatizer()\n",
        "training_data_review['lemmatized'] = training_data_review['wordnet_pos'].apply(lambda x: [wnl.lemmatize(word, tag) for word, tag in x])\n",
        "training_data_review['sentiment']=training_data_sentiment\n"
      ],
      "metadata": {
        "id": "mqIMiUeRmYxP",
        "colab": {
          "base_uri": "https://localhost:8080/"
        },
        "outputId": "2f80c7a2-bd0c-4bda-badc-de07de157946"
      },
      "execution_count": null,
      "outputs": [
        {
          "output_type": "stream",
          "name": "stdout",
          "text": [
            "12592    [i, walk, out, of, very, few, movie, screenings, and, this, movie, managed, to, become, one, of,...\n",
            "17224    [i, saw, this, film, at, the, chicago, reeling, film, festival, ., to, pick, up, on, the, previo...\n",
            "21672    [saw, a, trailer, for, this, on, another, video, ,, and, decided, to, rent, when, it, came, out,...\n",
            "46379    [i, watched, grendel, the, other, night, and, am, compelled, to, put, together, a, public, servi...\n",
            "8216     [naturally, in, a, film, who, 's, main, themes, are, of, mortality, ,, nostalgia, ,, and, loss, ...\n",
            "                                                        ...                                                 \n",
            "42347    [director, alfred, green, 's, melodrama, ``, baby, face, '', with, barbara, stanwyck, ranks, as,...\n",
            "9253     [i, find, it, so, amazing, that, even, after, all, these, years, ,, we, are, still, talking, abo...\n",
            "46525    [if, you, liked, ``, blair, with, '', you, 'll, like, this, one, ., it, has, the, same, lousy, c...\n",
            "32386    [there, is, a, lot, to, like, here, ., the, actors, are, first, rate, and, the, script, provides...\n",
            "3034     [seven, pounds, ,, this, was, the, movie, where, i, was, just, convinced, will, smith, is, reall...\n",
            "Name: review_lowercase, Length: 35000, dtype: object\n",
            "12592    [i, walk, out, of, very, few, movie, screenings, and, this, movie, managed, to, become, one, of,...\n",
            "17224    [i, saw, this, film, at, the, chicago, reeling, film, festival, to, pick, up, on, the, previous,...\n",
            "21672    [saw, a, trailer, for, this, on, another, video, and, decided, to, rent, when, it, came, out, bo...\n",
            "46379    [i, watched, grendel, the, other, night, and, am, compelled, to, put, together, a, public, servi...\n",
            "8216     [naturally, in, a, film, who, 's, main, themes, are, of, mortality, nostalgia, and, loss, of, in...\n",
            "                                                        ...                                                 \n",
            "42347    [director, alfred, green, 's, melodrama, ``, baby, face, '', with, barbara, stanwyck, ranks, as,...\n",
            "9253     [i, find, it, so, amazing, that, even, after, all, these, years, we, are, still, talking, about,...\n",
            "46525    [if, you, liked, ``, blair, with, '', you, 'll, like, this, one, it, has, the, same, lousy, came...\n",
            "32386    [there, is, a, lot, to, like, here, the, actors, are, first, rate, and, the, script, provides, g...\n",
            "3034     [seven, pounds, this, was, the, movie, where, i, was, just, convinced, will, smith, is, really, ...\n",
            "Name: no_punc, Length: 35000, dtype: object\n"
          ]
        }
      ]
    },
    {
      "cell_type": "markdown",
      "source": [
        "#Decision Tree"
      ],
      "metadata": {
        "id": "7Zr3V8FHmis4"
      }
    },
    {
      "cell_type": "code",
      "source": [
        "training_data_review['sentiment']=training_data_sentiment\n",
        "training_data_review.head()\n",
        "\n",
        "#decision_tree =  DecisionTreeClassifier(criterion='entropy',random_state=40)\n",
        "#decision_tree_model = decision_tree.fit(training_data_all,training_data_target)\n",
        "#predict_for_target_decision_tree = decision_tree_model.predict(testing_data_all)\n",
        "\n",
        "#confusion_matrix_decision_tree = confusion_matrix(testing_data_target,predict_for_target_decision_tree)\n",
        "#disp=ConfusionMatrixDisplay(confusion_matrix=confusion_matrix_decision_tree,display_labels=decision_tree.classes_)\n",
        "#accuracy_score_decision_tree = accuracy_score(testing_data_target,predict_for_target_decision_tree)\n",
        "#classification_report_decision_tree = classification_report(testing_data_target,predict_for_target_decision_tree)\n",
        "#Decision Tree Data\n",
        "#print(\"The Accuracy of the decision tree model \" ,accuracy_score_decision_tree,\"\\n\")\n",
        "#print(classification_report_decision_tree)\n",
        "#disp.plot()\n",
        "#plt.show()"
      ],
      "metadata": {
        "colab": {
          "base_uri": "https://localhost:8080/",
          "height": 235
        },
        "id": "KyifWRhVmjKF",
        "outputId": "c4e1365d-a36d-455a-c3cf-6df9a1cebd27"
      },
      "execution_count": null,
      "outputs": [
        {
          "output_type": "error",
          "ename": "NameError",
          "evalue": "ignored",
          "traceback": [
            "\u001b[0;31m---------------------------------------------------------------------------\u001b[0m",
            "\u001b[0;31mNameError\u001b[0m                                 Traceback (most recent call last)",
            "\u001b[0;32m<ipython-input-1-c09554c6c73c>\u001b[0m in \u001b[0;36m<module>\u001b[0;34m()\u001b[0m\n\u001b[0;32m----> 1\u001b[0;31m \u001b[0mtraining_data_review\u001b[0m\u001b[0;34m[\u001b[0m\u001b[0;34m'sentiment'\u001b[0m\u001b[0;34m]\u001b[0m\u001b[0;34m=\u001b[0m\u001b[0mtraining_data_sentiment\u001b[0m\u001b[0;34m\u001b[0m\u001b[0;34m\u001b[0m\u001b[0m\n\u001b[0m\u001b[1;32m      2\u001b[0m \u001b[0mtraining_data_review\u001b[0m\u001b[0;34m.\u001b[0m\u001b[0mhead\u001b[0m\u001b[0;34m(\u001b[0m\u001b[0;34m)\u001b[0m\u001b[0;34m\u001b[0m\u001b[0;34m\u001b[0m\u001b[0m\n\u001b[1;32m      3\u001b[0m \u001b[0;34m\u001b[0m\u001b[0m\n\u001b[1;32m      4\u001b[0m \u001b[0;31m#decision_tree =  DecisionTreeClassifier(criterion='entropy',random_state=40)\u001b[0m\u001b[0;34m\u001b[0m\u001b[0;34m\u001b[0m\u001b[0;34m\u001b[0m\u001b[0m\n\u001b[1;32m      5\u001b[0m \u001b[0;31m#decision_tree_model = decision_tree.fit(training_data_all,training_data_target)\u001b[0m\u001b[0;34m\u001b[0m\u001b[0;34m\u001b[0m\u001b[0;34m\u001b[0m\u001b[0m\n",
            "\u001b[0;31mNameError\u001b[0m: name 'training_data_sentiment' is not defined"
          ]
        }
      ]
    },
    {
      "cell_type": "markdown",
      "source": [
        "#AdaBoost"
      ],
      "metadata": {
        "id": "TZ82Rvlqm6l3"
      }
    },
    {
      "cell_type": "code",
      "source": [
        "n_range = list(range(10, 100,10))\n",
        "param_grid = dict(n_estimators=n_range)\n",
        "grid = GridSearchCV(AdaBoostClassifier(), param_grid, cv=10, scoring='accuracy')\n",
        "grid.fit(training_data_all,training_data_target);\n",
        "best_estimator_adaBoost=grid.best_estimator_"
      ],
      "metadata": {
        "id": "cUnf5nfB16Iu"
      },
      "execution_count": null,
      "outputs": []
    },
    {
      "cell_type": "code",
      "source": [
        "adaBoostClassifier = best_estimator_adaBoost\n",
        "adaBoostClassifier_model = adaBoostClassifier.fit(training_data_all,training_data_target)\n",
        "\n",
        "predict_for_target_adaBoost = adaBoostClassifier_model.predict(testing_data_all)\n",
        "confusion_matrix_adaBoost = confusion_matrix(testing_data_target,predict_for_target_adaBoost)\n",
        "disp=ConfusionMatrixDisplay(confusion_matrix=confusion_matrix_adaBoost,display_labels=adaBoostClassifier.classes_)\n",
        "accuracy_score_adaBoost = accuracy_score(testing_data_target,predict_for_target_adaBoost)\n",
        "classification_report_adaBoost = classification_report(testing_data_target,predict_for_target_adaBoost)\n",
        "\n",
        "#AdaBoost data\n",
        "print(\"The accuracy of adaBoost is \",accuracy_score_adaBoost,\"\\n\")\n",
        "print(classification_report_adaBoost)\n",
        "disp.plot()\n",
        "plt.show()"
      ],
      "metadata": {
        "colab": {
          "base_uri": "https://localhost:8080/",
          "height": 478
        },
        "id": "_IVZCcoGm-L3",
        "outputId": "b44e11e0-bae7-4d23-d186-4c092fbbc727"
      },
      "execution_count": null,
      "outputs": [
        {
          "output_type": "stream",
          "name": "stdout",
          "text": [
            "The accuracy of adaBoost is  0.8185895838524795 \n",
            "\n",
            "              precision    recall  f1-score   support\n",
            "\n",
            "           g       0.82      0.82      0.82      2011\n",
            "           h       0.82      0.81      0.82      2002\n",
            "\n",
            "    accuracy                           0.82      4013\n",
            "   macro avg       0.82      0.82      0.82      4013\n",
            "weighted avg       0.82      0.82      0.82      4013\n",
            "\n"
          ]
        },
        {
          "output_type": "display_data",
          "data": {
            "image/png": "[encoded data removed]",
            "text/plain": [
              "<Figure size 432x288 with 2 Axes>"
            ]
          },
          "metadata": {
            "needs_background": "light"
          }
        }
      ]
    },
    {
      "cell_type": "markdown",
      "source": [
        "#Random Forest"
      ],
      "metadata": {
        "id": "De7OInFNnfk2"
      }
    },
    {
      "cell_type": "code",
      "source": [
        "n_range = list(range(10, 120,10))\n",
        "param_grid = dict(n_estimators=n_range)\n",
        "grid = GridSearchCV(RandomForestClassifier(), param_grid, cv=10, scoring='accuracy')\n",
        "grid.fit(training_data_all,training_data_target);\n",
        "best_estimator_random_forest=grid.best_estimator_"
      ],
      "metadata": {
        "id": "EZq-msnD3H9t"
      },
      "execution_count": null,
      "outputs": []
    },
    {
      "cell_type": "code",
      "execution_count": null,
      "metadata": {
        "id": "sBXBueZZWjce",
        "colab": {
          "base_uri": "https://localhost:8080/",
          "height": 478
        },
        "outputId": "e4aef064-b3ad-498d-893e-3dd8c2b148af"
      },
      "outputs": [
        {
          "output_type": "stream",
          "name": "stdout",
          "text": [
            "The accuracy of Random Forest is  0.8587091951158734 \n",
            "\n",
            "              precision    recall  f1-score   support\n",
            "\n",
            "           g       0.84      0.89      0.86      2011\n",
            "           h       0.88      0.83      0.85      2002\n",
            "\n",
            "    accuracy                           0.86      4013\n",
            "   macro avg       0.86      0.86      0.86      4013\n",
            "weighted avg       0.86      0.86      0.86      4013\n",
            "\n"
          ]
        },
        {
          "output_type": "display_data",
          "data": {
            "image/png": "[encoded data removed]",
            "text/plain": [
              "<Figure size 432x288 with 2 Axes>"
            ]
          },
          "metadata": {
            "needs_background": "light"
          }
        }
      ],
      "source": [
        "random_forest = best_estimator_random_forest\n",
        "random_forest_predictor = random_forest.fit(training_data_all,training_data_target.values.ravel())\n",
        "random_forest_test_predictions = random_forest_predictor.predict(testing_data_all)\n",
        "\n",
        "# calculating metrics\n",
        "random_forest_confusion_matrix = confusion_matrix(testing_data_target,random_forest_test_predictions)\n",
        "disp=ConfusionMatrixDisplay(confusion_matrix=random_forest_confusion_matrix,display_labels=random_forest.classes_)\n",
        "random_forest_accuracy = accuracy_score(testing_data_target,random_forest_test_predictions)\n",
        "random_forest_classification_report = classification_report(testing_data_target,random_forest_test_predictions)\n",
        "\n",
        "# printing metrics\n",
        "print(\"The accuracy of Random Forest is \",random_forest_accuracy,\"\\n\")\n",
        "print(random_forest_classification_report)\n",
        "\n",
        "disp.plot()\n",
        "plt.show()\n",
        "\n",
        "\n",
        "\n",
        "\n"
      ]
    },
    {
      "cell_type": "markdown",
      "source": [
        "#Naive Bayes"
      ],
      "metadata": {
        "id": "mRx7nLPXgOGj"
      }
    },
    {
      "cell_type": "markdown",
      "source": [
        "##Naive Bayes Model Training"
      ],
      "metadata": {
        "id": "m7eNeAhSgYqn"
      }
    },
    {
      "cell_type": "code",
      "source": [
        "model=GaussianNB()\n",
        "model.fit(training_data_all,training_data_target);"
      ],
      "metadata": {
        "id": "KbhSeNcEgKIO"
      },
      "execution_count": null,
      "outputs": []
    },
    {
      "cell_type": "markdown",
      "source": [
        "##Naive Bayes Model Testing"
      ],
      "metadata": {
        "id": "NqU2sQiHgec-"
      }
    },
    {
      "cell_type": "code",
      "source": [
        "predicted=model.predict(testing_data_all.to_numpy());"
      ],
      "metadata": {
        "colab": {
          "base_uri": "https://localhost:8080/"
        },
        "id": "_tNiXX04gQ-y",
        "outputId": "8f69eba2-51ba-4c24-bc17-c63ae284442d"
      },
      "execution_count": null,
      "outputs": [
        {
          "output_type": "stream",
          "name": "stderr",
          "text": [
            "/usr/local/lib/python3.7/dist-packages/sklearn/base.py:446: UserWarning: X does not have valid feature names, but GaussianNB was fitted with feature names\n",
            "  \"X does not have valid feature names, but\"\n"
          ]
        }
      ]
    },
    {
      "cell_type": "markdown",
      "source": [
        "##Naive Bayes Model Evaluation Metrics"
      ],
      "metadata": {
        "id": "UcwHOE1KgrLY"
      }
    },
    {
      "cell_type": "code",
      "source": [
        "test_label_as_array=testing_data_target.to_numpy()\n",
        "labels=model.classes_\n",
        "\n",
        "accuracy=accuracy_score(test_label_as_array,predicted)\n",
        "conf_mat=confusion_matrix(test_label_as_array,predicted,labels=labels)\n",
        "disp=ConfusionMatrixDisplay(confusion_matrix=conf_mat,display_labels=labels)\n",
        "naive_bayes_classification_report=classification_report(testing_data_target,predicted)\n",
        "print(\"The accuracy of Naive Bayes is \",accuracy)\n",
        "print(naive_bayes_classification_report)\n",
        "disp.plot()\n",
        "plt.show()"
      ],
      "metadata": {
        "colab": {
          "base_uri": "https://localhost:8080/",
          "height": 463
        },
        "id": "oAAJ4Ma6grWT",
        "outputId": "47451a17-f9a7-44f8-a49b-efcc1399a1c8"
      },
      "execution_count": null,
      "outputs": [
        {
          "output_type": "stream",
          "name": "stdout",
          "text": [
            "The accuracy of Naive Bayes is  0.6573635684026913\n",
            "              precision    recall  f1-score   support\n",
            "\n",
            "           g       0.61      0.90      0.72      2011\n",
            "           h       0.80      0.41      0.55      2002\n",
            "\n",
            "    accuracy                           0.66      4013\n",
            "   macro avg       0.71      0.66      0.64      4013\n",
            "weighted avg       0.71      0.66      0.64      4013\n",
            "\n"
          ]
        },
        {
          "output_type": "display_data",
          "data": {
            "image/png": "[encoded data removed]",
            "text/plain": [
              "<Figure size 432x288 with 2 Axes>"
            ]
          },
          "metadata": {
            "needs_background": "light"
          }
        }
      ]
    },
    {
      "cell_type": "markdown",
      "source": [
        "#K-Nearest Neighbours"
      ],
      "metadata": {
        "id": "2LhekMDInH31"
      }
    },
    {
      "cell_type": "code",
      "source": [
        "#Scaling the data\n",
        "scaler=StandardScaler()\n",
        "scaled_training_data=scaler.fit_transform(training_data_all)\n",
        "scaled_testing_data=scaler.fit_transform(testing_data_all)"
      ],
      "metadata": {
        "id": "6q6DMf7tuAOW"
      },
      "execution_count": null,
      "outputs": []
    },
    {
      "cell_type": "code",
      "source": [
        "k_range = list(range(1, 31))\n",
        "param_grid = dict(n_neighbors=k_range)\n",
        "grid = GridSearchCV(KNeighborsClassifier(), param_grid, cv=20, scoring='accuracy')\n",
        "grid.fit(scaled_training_data,training_data_target);\n",
        "best_estimator_knn=grid.best_estimator_"
      ],
      "metadata": {
        "id": "aP095h22r8EY"
      },
      "execution_count": null,
      "outputs": []
    },
    {
      "cell_type": "code",
      "source": [
        "k_nearest_Neighbours =best_estimator_knn\n",
        "result_k_nearest_Neighbours = k_nearest_Neighbours.fit(scaled_training_data,training_data_target)\n",
        "predict_for_target_k_nearest = result_k_nearest_Neighbours.predict(scaled_testing_data)\n",
        "\n",
        "confusion_matrix_result_k_nearest = confusion_matrix(testing_data_target,predict_for_target_k_nearest)\n",
        "disp=ConfusionMatrixDisplay(confusion_matrix=confusion_matrix_result_k_nearest,display_labels=k_nearest_Neighbours.classes_)\n",
        "accuracy_score_result_k_nearest = accuracy_score(testing_data_target,predict_for_target_k_nearest)\n",
        "classification_report_result_k_nearest = classification_report(testing_data_target,predict_for_target_k_nearest)\n",
        "#K- Nearest Neighbours data\n",
        "print(\"The accuracy of KNN is \",accuracy_score_result_k_nearest,\"\\n\")\n",
        "print(classification_report_result_k_nearest)\n",
        "disp.plot()\n",
        "plt.show()"
      ],
      "metadata": {
        "colab": {
          "base_uri": "https://localhost:8080/",
          "height": 482
        },
        "id": "5ZxljzvqnIAF",
        "outputId": "f7a2d8af-6a46-4a2f-d2dc-0750770766ad"
      },
      "execution_count": null,
      "outputs": [
        {
          "output_type": "stream",
          "name": "stdout",
          "text": [
            "The accuracy of KNN is  0.8101171193620733 \n",
            "\n",
            "              precision    recall  f1-score   support\n",
            "\n",
            "           g       0.76      0.90      0.83      2011\n",
            "           h       0.88      0.72      0.79      2002\n",
            "\n",
            "    accuracy                           0.81      4013\n",
            "   macro avg       0.82      0.81      0.81      4013\n",
            "weighted avg       0.82      0.81      0.81      4013\n",
            "\n"
          ]
        },
        {
          "output_type": "display_data",
          "data": {
            "image/png": "[encoded data removed]",
            "text/plain": [
              "<Figure size 432x288 with 2 Axes>"
            ]
          },
          "metadata": {
            "needs_background": "light"
          }
        }
      ]
    },
    {
      "cell_type": "markdown",
      "source": [
        "#Neural Network With 2 Layers"
      ],
      "metadata": {
        "id": "ANzIQyy1gy98"
      }
    },
    {
      "cell_type": "markdown",
      "source": [
        "##Preprocessing"
      ],
      "metadata": {
        "id": "owuOJsH6g7eU"
      }
    },
    {
      "cell_type": "code",
      "source": [
        "training_data_target.replace({'g': 0,'h': 1},inplace=True)"
      ],
      "metadata": {
        "id": "8L9irAWHg9sp"
      },
      "execution_count": null,
      "outputs": []
    },
    {
      "cell_type": "code",
      "source": [
        "testing_data_target.replace({'g':0,'h':1},inplace=True)"
      ],
      "metadata": {
        "id": "CGjk1uD1g3da"
      },
      "execution_count": null,
      "outputs": []
    },
    {
      "cell_type": "code",
      "source": [
        "y_train=training_data_target\n",
        "y_test=testing_data_target\n",
        "y_train = torch.squeeze(torch.from_numpy(y_train.to_numpy()).float())\n",
        "y_test = torch.squeeze(torch.from_numpy(y_test.to_numpy()).float())"
      ],
      "metadata": {
        "id": "hAZyVW5-XpBd"
      },
      "execution_count": null,
      "outputs": []
    },
    {
      "cell_type": "markdown",
      "source": [
        "##Building The Neural Network"
      ],
      "metadata": {
        "id": "R-YnCROthLxc"
      }
    },
    {
      "cell_type": "code",
      "source": [
        "class BinaryClassification(nn.Module):\n",
        "    def __init__(self,n_features):\n",
        "        super(BinaryClassification, self).__init__()\n",
        "        self.layer_1 = nn.Linear(n_features, 68) \n",
        "        self.layer_2 = nn.Linear(68, 30)\n",
        "        self.layer_out = nn.Linear(30, 1) \n",
        "  \n",
        "        \n",
        "    def forward(self, data):\n",
        "      data=F.relu(self.layer_1(data))\n",
        "      data=F.relu(self.layer_2(data))\n",
        "      return torch.sigmoid(self.layer_out(data))\n",
        "        "
      ],
      "metadata": {
        "id": "8cVm_cNlb9py"
      },
      "execution_count": null,
      "outputs": []
    },
    {
      "cell_type": "code",
      "source": [
        "net=BinaryClassification(scaled_training_data.shape[1])"
      ],
      "metadata": {
        "id": "PQ5oa35vfLAc"
      },
      "execution_count": null,
      "outputs": []
    },
    {
      "cell_type": "markdown",
      "source": [
        "#Training"
      ],
      "metadata": {
        "id": "XYErgRkMheV_"
      }
    },
    {
      "cell_type": "code",
      "source": [
        "criterion=nn.BCELoss()"
      ],
      "metadata": {
        "id": "paq6u-sVhYIl"
      },
      "execution_count": null,
      "outputs": []
    },
    {
      "cell_type": "code",
      "source": [
        "optimizer=optim.Adam(net.parameters(),lr=0.001)"
      ],
      "metadata": {
        "id": "oAm4It1hhrsb"
      },
      "execution_count": null,
      "outputs": []
    },
    {
      "cell_type": "code",
      "source": [
        "def calculate_accuracy(y_true,y_pred):\n",
        "  predicted=y_pred.ge(.5).view(-1)\n",
        "  return (y_true==predicted).sum().float()/len(y_true)"
      ],
      "metadata": {
        "id": "F0IQUtUipsgs"
      },
      "execution_count": null,
      "outputs": []
    },
    {
      "cell_type": "code",
      "source": [
        "def round_tensor(t, decimal_places=3):\n",
        "  return round(t.item(), decimal_places)\n",
        "for epoch in range(10000):\n",
        "    y_pred = net(torch.from_numpy(scaled_training_data).float())\n",
        "    y_pred = torch.squeeze(y_pred)\n",
        "    train_loss = criterion(y_pred, y_train)\n",
        "    if epoch % 100 == 0:\n",
        "      optimizer.zero_grad()\n",
        "      train_loss.backward()\n",
        "      optimizer.step()"
      ],
      "metadata": {
        "id": "Q7WVtHnyjMOT"
      },
      "execution_count": null,
      "outputs": []
    },
    {
      "cell_type": "code",
      "source": [
        "y_test_pred = net(torch.from_numpy(scaled_testing_data).float())\n",
        "y_test_pred = torch.squeeze(y_test_pred)\n",
        "test_loss = criterion(y_test_pred, y_test)\n",
        "test_acc = calculate_accuracy(y_test, y_test_pred)\n",
        "print('The accuracy of the neural network is ',test_acc)"
      ],
      "metadata": {
        "colab": {
          "base_uri": "https://localhost:8080/"
        },
        "id": "-P4c55meyEcw",
        "outputId": "c1f5e334-b492-46da-ce70-55a6375551bd"
      },
      "execution_count": null,
      "outputs": [
        {
          "output_type": "stream",
          "name": "stdout",
          "text": [
            "The accuracy of the neural network is  tensor(0.8084)\n"
          ]
        }
      ]
    },
    {
      "cell_type": "code",
      "source": [
        "classes=['g','h']\n",
        "y_pred= net(torch.from_numpy(scaled_testing_data).float())\n",
        "y_pred=y_pred.ge(.5).view(-1)\n",
        "net_classification_report=classification_report(y_test,y_pred,target_names=classes)\n",
        "print(net_classification_report)"
      ],
      "metadata": {
        "colab": {
          "base_uri": "https://localhost:8080/"
        },
        "id": "ZkCKYtvZyEfI",
        "outputId": "3e1a0bf3-9a8a-4742-d2b3-5a0c7e7eb87f"
      },
      "execution_count": null,
      "outputs": [
        {
          "output_type": "stream",
          "name": "stdout",
          "text": [
            "              precision    recall  f1-score   support\n",
            "\n",
            "           g       0.78      0.85      0.82      2011\n",
            "           h       0.84      0.76      0.80      2002\n",
            "\n",
            "    accuracy                           0.81      4013\n",
            "   macro avg       0.81      0.81      0.81      4013\n",
            "weighted avg       0.81      0.81      0.81      4013\n",
            "\n"
          ]
        }
      ]
    },
    {
      "cell_type": "code",
      "source": [
        "conf_mat=confusion_matrix(y_test,y_pred)\n",
        "disp=ConfusionMatrixDisplay(confusion_matrix=conf_mat,display_labels=classes)\n",
        "disp.plot()\n",
        "plt.show()"
      ],
      "metadata": {
        "colab": {
          "base_uri": "https://localhost:8080/",
          "height": 279
        },
        "id": "RYdrcCBvyEhY",
        "outputId": "663e273c-ebd0-473a-c383-1a71f1a650b2"
      },
      "execution_count": null,
      "outputs": [
        {
          "output_type": "display_data",
          "data": {
            "image/png": "[encoded data removed]",
            "text/plain": [
              "<Figure size 432x288 with 2 Axes>"
            ]
          },
          "metadata": {
            "needs_background": "light"
          }
        }
      ]
    }
  ]
}